{
 "cells": [
  {
   "cell_type": "markdown",
   "metadata": {
    "id": "-a3yYeO24ka4"
   },
   "source": [
    "به نام خدا\n",
    "\n",
    "\n",
    "---\n",
    "\n",
    "# آمار و احتمال مهندسی\n",
    "دانشگاه صنعتی شریف - دانشکده مهندسی کامپیوتر - پاییز ۱۴۰۳\n",
    "\n",
    "دکتر مطهری\n",
    "\n",
    "---\n",
    "## تمرین عملی - فاز ۲\n"
   ]
  },
  {
   "cell_type": "markdown",
   "metadata": {
    "id": "v-LY891r5pSk"
   },
   "source": [
    "نام و نام خانوادگی: مسیح شیخی\n",
    "\n",
    "شماره دانشجویی: 402100859"
   ]
  },
  {
   "cell_type": "code",
   "execution_count": 1,
   "metadata": {
    "id": "v-LY891r5pSk"
   },
   "outputs": [
    {
     "name": "stderr",
     "output_type": "stream",
     "text": [
      "\n",
      "Attaching package: 'dplyr'\n",
      "\n",
      "\n",
      "The following objects are masked from 'package:stats':\n",
      "\n",
      "    filter, lag\n",
      "\n",
      "\n",
      "The following objects are masked from 'package:base':\n",
      "\n",
      "    intersect, setdiff, setequal, union\n",
      "\n",
      "\n",
      "mixtools package, version 2.0.0, Released 2022-12-04\n",
      "This package is based upon work supported by the National Science Foundation under Grant No. SES-0518772 and the Chan Zuckerberg Initiative: Essential Open Source Software for Science (Grant No. 2020-255193).\n",
      "\n",
      "\n",
      "Loading required package: lattice\n",
      "\n"
     ]
    }
   ],
   "source": [
    "# Additional cell code for installing libraries\n",
    "#install.packages(\"moments\")\n",
    "#install.packages(\"ggplot2\")\n",
    "#install.packages(\"flexmix\")\n",
    "#install.packages(\"mixtools\")\n",
    "#install.packages(\"effsize\")\n",
    "#install.packages(\"dplyr\")\n",
    "library(dplyr)\n",
    "library(effsize)\n",
    "library(mixtools)\n",
    "library(flexmix)\n",
    "library(ggplot2)\n",
    "library(moments)"
   ]
  },
  {
   "cell_type": "markdown",
   "metadata": {
    "id": "_AcZ29nW6oDT"
   },
   "source": [
    "<div style=\"direction:rtl; line-height:200%;\">\n",
    "    <font face=\"XB Zar\" size=4>\n",
    "        <font size=6>\n",
    "        سؤال ۱: بررسی توزیع‌های احتمالی\n",
    "        </font>\n",
    "        <p></p>\n",
    "        <hr>\n",
    "        <br/>\n",
    "        <ol>\n",
    "            <li>10,000 نمونه از یک توزیع نرمال با میانگین 5 و انحراف معیار 2 تولید کنید.</li>\n",
    "            <li>هیستوگرام داده‌های تولیدشده را رسم کنید و تابع چگالی احتمال تئوری را روی آن نمایش دهید.</li>\n",
    "            <li>مقادیر میانگین، واریانس، چولگی (Skewness) و کشیدگی (Kurtosis) نمونه‌ها را محاسبه کنید.</li>\n",
    "            <li>نتایج به‌دست‌آمده را تفسیر کنید.</li>\n",
    "        </ol>\n",
    "    </font>\n",
    "</div>\n"
   ]
  },
  {
   "cell_type": "code",
   "execution_count": 2,
   "metadata": {
    "id": "WwZgcU106sGB"
   },
   "outputs": [
    {
     "name": "stdout",
     "output_type": "stream",
     "text": [
      "Mean: 4.970631 \n",
      "Variance: 4.073526 \n",
      "Skewness: -0.00308255 \n",
      "Kurtosis: 3.034584 \n"
     ]
    },
    {
     "data": {
      "image/png": "[encoded data removed]",
      "text/plain": [
       "Plot with title \"Histogram with Theoretical PDF\""
      ]
     },
     "metadata": {
      "image/png": {
       "height": 420,
       "width": 420
      }
     },
     "output_type": "display_data"
    }
   ],
   "source": [
    "# 1\n",
    "set.seed(402100859)\n",
    "samples <- rnorm(10000, mean = 5, sd = 2)\n",
    "\n",
    "# 2\n",
    "hist(samples, breaks = 30, probability = TRUE, col = \"lightblue\", \n",
    "     main = \"Histogram with Theoretical PDF\", xlab = \"Values\")\n",
    "\n",
    "curve(dnorm(x, mean = 5, sd = 2), add = TRUE, col = \"red\", lwd = 2)\n",
    "\n",
    "# 3\n",
    "mean_samples <- mean(samples)\n",
    "variance_samples <- var(samples)\n",
    "skewness_samples <- skewness(samples)\n",
    "kurtosis_samples <- kurtosis(samples)\n",
    "\n",
    "cat(\"Mean:\", mean_samples, \"\\n\")\n",
    "cat(\"Variance:\", variance_samples, \"\\n\")\n",
    "cat(\"Skewness:\", skewness_samples, \"\\n\")\n",
    "cat(\"Kurtosis:\", kurtosis_samples, \"\\n\")\n"
   ]
  },
  {
   "cell_type": "markdown",
   "metadata": {},
   "source": [
    "<div style=\"direction:rtl; line-height:180%;\">\n",
    "    <font face=\"XB Zar\" size=3>\n",
    "        <font size=3>\n",
    "        بخش 4\n",
    "        </font>\n",
    "            <li>برای نمونه ساخته شده مقادیر انتظاری‌مان برای میانگین $μ=5$ و برای واریانس $σ^2=4$ و بدلیل اینکه توزیع‌های نرمال متقارن هستند چولگی صفر را انتظار داریم و همچنین برای یک توزیع نرمال کشیدگی برابر 3 است.</li>\n",
    "    </font>\n",
    "</div>\n"
   ]
  },
  {
   "cell_type": "code",
   "execution_count": 3,
   "metadata": {},
   "outputs": [
    {
     "name": "stdout",
     "output_type": "stream",
     "text": [
      "Expected Mean: 5 \tObserved Mean: 4.970631 \n",
      "Expected Variance: 4 \tObserved Variance: 4.073526 \n",
      "Expected Skewness: 0 \tObserved Skewness: -0.00308255 \n",
      "Expected Kurtosis: 3 \tObserved Kurtosis: 3.034584 \n"
     ]
    }
   ],
   "source": [
    "#4\n",
    "cat(\"Expected Mean:\", 5, \"\\tObserved Mean:\", mean_samples, \"\\n\")\n",
    "cat(\"Expected Variance:\", 4, \"\\tObserved Variance:\", variance_samples, \"\\n\")\n",
    "cat(\"Expected Skewness:\", 0, \"\\tObserved Skewness:\", skewness_samples, \"\\n\")\n",
    "cat(\"Expected Kurtosis:\", 3, \"\\tObserved Kurtosis:\", kurtosis_samples, \"\\n\")"
   ]
  },
  {
   "cell_type": "markdown",
   "metadata": {},
   "source": [
    "<div style=\"direction:rtl; line-height:180%;\">\n",
    "    <font face=\"XB Zar\" size=3>\n",
    "            در نتایج مشهود است که بدلیل بزرگ بودن اندازه نمونه، مقادیر مورد انتظار بسیار به مقادیر بدست آمده نزدیک است.\n",
    "    </font>\n",
    "</div>\n"
   ]
  },
  {
   "cell_type": "markdown",
   "metadata": {
    "id": "Hcozqe59-kKV"
   },
   "source": [
    "<div style=\"direction:rtl; line-height:200%;\">\n",
    "    <font face=\"XB Zar\" size=4>\n",
    "        <font size=6>\n",
    "        سؤال ۲: استنتاج بیزی\n",
    "        </font>\n",
    "        <p></p>\n",
    "        <hr>\n",
    "        <br/>\n",
    "        <ol>\n",
    "            <li>فرض کنید توزیع پیشین $P(\\theta) \\sim Beta(2, 5)$ باشد.</li>\n",
    "            <li>با توجه به یک تابع درست‌نمایی دوجمله‌ای با $n = 20$ آزمایش و $x = 7$ موفقیت، توزیع پسین را محاسبه کنید.</li>\n",
    "            <li>توزیع‌های پیشین، درست‌نمایی، و پسین را رسم کنید.</li>\n",
    "            <li>با استفاده از R، نمونه‌هایی از توزیع پسین شبیه‌سازی کرده و میانگین پسین و بازه اطمینان را تخمین بزنید.</li>\n",
    "        </ol>\n",
    "    </font>\n",
    "</div>\n",
    "\n"
   ]
  },
  {
   "cell_type": "markdown",
   "metadata": {},
   "source": [
    "<div style=\"direction:rtl; line-height:180%;\">\n",
    "    <font face=\"XB Zar\" size=3>\n",
    "            تابع درست‌نمایی دوجمله‌ای نامبرده به این شکل است: <br>\n",
    "            $P(x \\mid \\theta) = \\binom{n}{x} \\theta^x (1-\\theta)^{n-x}$ <br>\n",
    "            $P(x \\mid \\theta) = 77520  . \\theta^7 (1-\\theta)^{13}$ <br>\n",
    "            از آنجایی که برای توزیع پیشین بتا و تابع درست‌نمایی دوجمله‌ای، توزیع پسین نیز یک توزیع بتا است، <br>\n",
    "            با n و x داده شده میتوان توزیع پسین را بدست آورد: <br>\n",
    "            $P(\\theta \\mid x) = Beta(\\alpha + x, \\beta + n - x)$ <br>\n",
    "            $P(\\theta \\mid x) = Beta(9, 18)$\n",
    "    </font>\n",
    "</div>\n"
   ]
  },
  {
   "cell_type": "code",
   "execution_count": 4,
   "metadata": {
    "id": "mhvHODMl-pqN"
   },
   "outputs": [
    {
     "data": {
      "image/png": "[encoded data removed]",
      "text/plain": [
       "plot without title"
      ]
     },
     "metadata": {
      "image/png": {
       "height": 420,
       "width": 420
      }
     },
     "output_type": "display_data"
    }
   ],
   "source": [
    "theta <- seq(0, 1, length.out = 1000)\n",
    "\n",
    "prior <- dbeta(theta, 2, 5)\n",
    "likelihood <- dbinom(7, 20, theta)\n",
    "posterior <- dbeta(theta, 9, 18)\n",
    "\n",
    "df <- data.frame(theta, prior, likelihood, posterior)\n",
    "\n",
    "ggplot(df, aes(x = theta)) +\n",
    "  geom_line(aes(y = prior, color = \"Prior\"), linewidth = 1) +\n",
    "  geom_line(aes(y = likelihood / max(likelihood), color = \"Likelihood (scaled)\"), linewidth = 1) +\n",
    "  geom_line(aes(y = posterior, color = \"Posterior\"), linewidth = 1) +\n",
    "  labs(title = \"Prior, Likelihood, and Posterior Distributions\",\n",
    "       x = expression(theta),\n",
    "       y = \"Density\") +\n",
    "  scale_color_manual(values = c(\"Prior\" = \"blue\", \"Likelihood (scaled)\" = \"red\", \"Posterior\" = \"green\")) +\n",
    "  theme_minimal()\n"
   ]
  },
  {
   "cell_type": "code",
   "execution_count": 5,
   "metadata": {},
   "outputs": [
    {
     "name": "stdout",
     "output_type": "stream",
     "text": [
      "Posterior Mean: 0.3326544 \n",
      "95% Confidence Interval: [ 0.1708161 0.5108692 ]\n"
     ]
    }
   ],
   "source": [
    "posterior_samples <- rbeta(10000, 9, 18)\n",
    "posterior_mean <- mean(posterior_samples)\n",
    "posterior_ci <- quantile(posterior_samples, c(0.025, 0.975))\n",
    "\n",
    "cat(\"Posterior Mean:\", posterior_mean, \"\\n\")\n",
    "cat(\"95% Confidence Interval: [\", posterior_ci, \"]\\n\")\n"
   ]
  },
  {
   "cell_type": "markdown",
   "metadata": {},
   "source": [
    "<div style=\"direction:rtl; line-height:180%;\">\n",
    "    <font face=\"XB Zar\" size=3>\n",
    "            مقادیر تقریبی شبیه سازی شده مشاهده شد. همچنین از نظر تئوری داریم: <br>\n",
    "            $\\mu = \\frac{\\alpha}{\\alpha + \\beta} = \\frac{9}{27} = 0.333$ <br>\n",
    "            و بسته به شبیه سازی، فاصله اطمینان 95% باید تقریباً [0.48 , 0.20] باشد.\n",
    "    </font>\n",
    "</div>\n"
   ]
  },
  {
   "cell_type": "markdown",
   "metadata": {
    "id": "GAq4EMRr_2nO"
   },
   "source": [
    "<div style=\"direction:rtl; line-height:200%;\">\n",
    "    <font face=\"XB Zar\" size=4>\n",
    "        <font size=6>\n",
    "        معرفی مختصر مدل‌های ترکیبی گوسی (GMM)\n",
    "        </font>\n",
    "        <p></p>\n",
    "        <hr>\n",
    "        <br/>\n",
    "        مدل‌های ترکیبی گوسی (Gaussian Mixture Models - GMM) مدل‌هایی احتمالی هستند که برای نمایش داده‌هایی استفاده می‌شوند که ممکن است از ترکیب چند توزیع گوسی تشکیل شده باشند. هر مؤلفه گوسی در این ترکیب با میانگین ($\\mu$)، واریانس ($\\sigma^2$) و وزن ($\\pi$) تعریف می‌شود که نشان‌دهنده نسبت داده‌های متعلق به آن مؤلفه است.  \n",
    "        <br/><br/>\n",
    "        تابع چگالی احتمال یک GMM به شکل زیر است:  \n",
    "        $$p(x) = \\sum_{k=1}^{K} \\pi_k \\cdot \\mathcal{N}(x | \\mu_k, \\sigma_k^2),$$  \n",
    "        که در آن $K$ تعداد مؤلفه‌ها، $\\pi_k$ وزن‌ها ($\\sum \\pi_k = 1$) و $\\mathcal{N}(x | \\mu_k, \\sigma_k^2)$ تابع چگالی گوسی برای مؤلفه $k$ است.  \n",
    "        <br/>\n",
    "        مدل‌های ترکیبی گوسی به خصوص برای خوشه‌بندی و تخمین چگالی مفید هستند و در کاربردهایی مانند بخش‌بندی تصویر و تشخیص گفتار استفاده می‌شوند.  \n",
    "    </font>\n",
    "</div>\n",
    "\n",
    "<div style=\"direction:rtl; line-height:200%;\">\n",
    "    <font face=\"XB Zar\" size=4>\n",
    "        <font size=6>\n",
    "        سؤال ۳: بخش‌بندی تصویر با استفاده از GMM\n",
    "        </font>\n",
    "        <p></p>\n",
    "        <hr>\n",
    "        <br/>\n",
    "        <ol>\n",
    "            <li>داده‌های مجموعه‌ی <code>volcano</code> در R را که نشان‌دهنده داده‌های ارتفاعی است بارگذاری کنید. داده‌ها را به بازه $[0, 1]$ نرمال کنید.</li>\n",
    "            <li>از مدل ترکیبی گوسی (GMM) برای بخش‌بندی این مجموعه به سه ناحیه متمایز استفاده کنید. مدل را با استفاده از بسته‌ی <code>mclust</code> در R یا کتابخانه‌ای مشابه برازش دهید.</li>\n",
    "            <li>تصویر بخش‌بندی‌شده را با اختصاص هر پیکسل به مؤلفه گوسی با بیشترین احتمال نمایش دهید.</li>\n",
    "            <li>نواحی بخش‌بندی‌شده را تفسیر کنید و بحث کنید که GMM چقدر ساختار داده را به خوبی مدل‌سازی کرده است.</li>\n",
    "        </ol>\n",
    "    </font>\n",
    "</div>\n",
    "\n"
   ]
  },
  {
   "cell_type": "code",
   "execution_count": 6,
   "metadata": {
    "id": "AXIXOVtyAiDB"
   },
   "outputs": [
    {
     "name": "stdout",
     "output_type": "stream",
     "text": [
      "number of iterations= 416 \n"
     ]
    },
    {
     "data": {
      "image/png": "[encoded data removed]",
      "text/plain": [
       "Plot with title \"Segmented Volcano Image\""
      ]
     },
     "metadata": {
      "image/png": {
       "height": 420,
       "width": 420
      }
     },
     "output_type": "display_data"
    }
   ],
   "source": [
    "#1\n",
    "data(volcano)\n",
    "volcano_normalized <- (volcano - min(volcano)) / (max(volcano) - min(volcano))\n",
    "\n",
    "#2\n",
    "volcano_vector <- as.vector(volcano_normalized)\n",
    "\n",
    "set.seed(123)\n",
    "gmm_model <- normalmixEM(volcano_vector, k = 3)\n",
    "\n",
    "#3\n",
    "component_assignment <- apply(gmm_model$posterior, 1, which.max)\n",
    "\n",
    "#4\n",
    "segmented_image <- matrix(component_assignment, nrow = nrow(volcano), ncol = ncol(volcano))\n",
    "image(segmented_image, col = terrain.colors(3), axes = FALSE, main = \"Segmented Volcano Image\")\n"
   ]
  },
  {
   "cell_type": "markdown",
   "metadata": {},
   "source": [
    "<div style=\"direction:rtl; line-height:180%;\">\n",
    "    <font face=\"XB Zar\" size=3>\n",
    "            مناطق تقسیم شده در تصویر آتشفشان تقسیم شده با سه جزء گاوسی مدل به خوبی مطابقت دارد. در واقع تقسیم بندی به طور موثری ساختار زیربنایی داده‌ها را به تصویر می‌کشد. <br>\n",
    "            این مجموعه درواقع توپوگرافی مناسبی از تصاویر ثبت شده و کمک گرفتن از روشنایی و تاریکی پیکسل ها را رسم کرده است. از آنجایی که مرزهای بین خوشه ها نسبتاً هموار است، نشان می دهد GMM به طور موثر تغییرات تدریجی در ارتفاع را ثبت کرده است.\n",
    "    </font>\n",
    "</div>\n"
   ]
  },
  {
   "cell_type": "markdown",
   "metadata": {},
   "source": [
    "<div style=\"direction:rtl; line-height:200%;\">  \n",
    "<font face=\"XB Zar\" size=4>  \n",
    "<font size=6>استنتاج بیزی در تصمیم‌گیری</font>  \n",
    "<p></p>  \n",
    "<hr>  \n",
    "<br/>  \n",
    "استنتاج بیزی ابزاری قدرتمند برای تصمیم‌گیری در شرایط عدم قطعیت است. این سؤال شما را با روش‌های بیزی برای تحلیل یک مجموعه داده واقعی شبیه‌سازی‌شده آشنا می‌کند و به شما امکان می‌دهد احتمال‌های پسین را محاسبه کرده و تأثیر اطلاعات جدید بر باورهای اولیه را ارزیابی کنید.  \n",
    "<br/><br/>  \n",
    "<b>مجموعه داده:</b> از مجموعه داده شبیه‌سازی‌شده «Fault Detection Dataset» استفاده کنید. این مجموعه داده شامل اطلاعات زیر است:  \n",
    "<ul>  \n",
    "<li><b>Alarm:</b> فعال یا غیرفعال (هشدار سیستم)</li>  \n",
    "<li><b>True_Status:</b> خرابی واقعی (خرابی وجود دارد) یا عدم خرابی (خرابی وجود ندارد)</li>  \n",
    "<li><b>Machine_Age:</b> جدید، متوسط، قدیمی</li>  \n",
    "<li><b>Maintenance_History:</b> اخیراً تعمیر شده، نیاز به تعمیر، بدون تعمیر</li>  \n",
    "</ul>  \n",
    "</font>  \n",
    "</div>  \n",
    "\n",
    "<div style=\"direction:rtl; line-height:200%;\">  \n",
    "<font face=\"XB Zar\" size=4>  \n",
    "<font size=6>سؤال ۴: تحلیل بیزی هشدار سیستم</font>  \n",
    "<p></p>  \n",
    "<hr>  \n",
    "<br/>  \n",
    "<ol>  \n",
    "<li>مجموعه داده را در R بارگذاری کرده و داده‌ها را خلاصه کنید. نرخ وقوع خرابی (Prior Probability) را محاسبه کنید.</li>  \n",
    "<li>نرخ هشدار درست (True Positive Rate) و نرخ هشدار اشتباه (False Positive Rate) سیستم را محاسبه کنید.</li>  \n",
    "<li>با استفاده از قضیه بیز، احتمال پسین خرابی را برای یک هشدار فعال محاسبه کنید:  \n",
    "<br/>  \n",
    "$$P(\\text{Fault | Alarm}) = \\frac{P(\\text{Alarm | Fault}) \\cdot P(\\text{Fault})}{P(\\text{Alarm})}.$$  \n",
    "</li>  \n",
    "<li>احتمال پسین عدم خرابی را برای یک هشدار غیرفعال محاسبه کنید.</li>  \n",
    "<li>با شبیه‌سازی نرخ‌های اولیه مختلف برای وقوع خرابی (مثلاً ۱٪، ۱۰٪ و ۵۰٪)، احتمال‌های پسین را مجدداً محاسبه کرده و اثر تغییر در احتمال اولیه را بررسی کنید.</li>  \n",
    "<li>یک تحلیل زیرگروه بر اساس <code>Machine_Age</code> یا <code>Maintenance_History</code> انجام دهید. احتمال‌های پسین را برای هر زیرگروه محاسبه کرده و نتایج را مقایسه کنید.</li>  \n",
    "<li>یافته‌های خود را خلاصه کرده و درباره پیامدهای هشدارهای کاذب و از دست دادن هشدارهای واقعی بحث کنید. توضیح دهید که چگونه احتمال اولیه قوی می‌تواند نتایج تحلیل را تحت تأثیر قرار دهد.</li>  \n",
    "</ol>  \n",
    "</font>  \n",
    "</div>\n"
   ]
  },
  {
   "cell_type": "code",
   "execution_count": 7,
   "metadata": {},
   "outputs": [
    {
     "data": {
      "text/plain": [
       " Machine_Age        Maintenance_History True_Status           Alarm          \n",
       " Length:10000       Length:10000        Length:10000       Length:10000      \n",
       " Class :character   Class :character    Class :character   Class :character  \n",
       " Mode  :character   Mode  :character    Mode  :character   Mode  :character  "
      ]
     },
     "metadata": {},
     "output_type": "display_data"
    },
    {
     "name": "stdout",
     "output_type": "stream",
     "text": [
      "\n",
      "Prior Fault:  0.1562 \n",
      "Prior No Fault:  0.8438 \n",
      "True Positive Rate:  0.8886044 \n",
      "False Positive Rate:  0.04930078 \n",
      "Posterior Fault Given Alarm:  0.7694013 \n",
      "Posterior No Fault Given No Alarm:  0.9787701 \n",
      "\n"
     ]
    },
    {
     "data": {
      "text/html": [
       "<table class=\"dataframe\">\n",
       "<caption>A matrix: 2 × 3 of type dbl</caption>\n",
       "<thead>\n",
       "\t<tr><th scope=col>Prior_0.01</th><th scope=col>Prior_0.1</th><th scope=col>Prior_0.5</th></tr>\n",
       "</thead>\n",
       "<tbody>\n",
       "\t<tr><td>0.1540207</td><td>0.6669645</td><td>0.9474352</td></tr>\n",
       "\t<tr><td>0.9988178</td><td>0.9871482</td><td>0.8951170</td></tr>\n",
       "</tbody>\n",
       "</table>\n"
      ],
      "text/latex": [
       "A matrix: 2 × 3 of type dbl\n",
       "\\begin{tabular}{lll}\n",
       " Prior\\_0.01 & Prior\\_0.1 & Prior\\_0.5\\\\\n",
       "\\hline\n",
       "\t 0.1540207 & 0.6669645 & 0.9474352\\\\\n",
       "\t 0.9988178 & 0.9871482 & 0.8951170\\\\\n",
       "\\end{tabular}\n"
      ],
      "text/markdown": [
       "\n",
       "A matrix: 2 × 3 of type dbl\n",
       "\n",
       "| Prior_0.01 | Prior_0.1 | Prior_0.5 |\n",
       "|---|---|---|\n",
       "| 0.1540207 | 0.6669645 | 0.9474352 |\n",
       "| 0.9988178 | 0.9871482 | 0.8951170 |\n",
       "\n"
      ],
      "text/plain": [
       "     Prior_0.01 Prior_0.1 Prior_0.5\n",
       "[1,] 0.1540207  0.6669645 0.9474352\n",
       "[2,] 0.9988178  0.9871482 0.8951170"
      ]
     },
     "metadata": {},
     "output_type": "display_data"
    },
    {
     "data": {
      "text/html": [
       "<table class=\"dataframe\">\n",
       "<caption>A data.frame: 9 × 4</caption>\n",
       "<thead>\n",
       "\t<tr><th scope=col>Machine_Age</th><th scope=col>Maintenance_History</th><th scope=col>P_Fault_Given_Alarm</th><th scope=col>P_NoFault_Given_NoAlarm</th></tr>\n",
       "\t<tr><th scope=col>&lt;chr&gt;</th><th scope=col>&lt;chr&gt;</th><th scope=col>&lt;dbl&gt;</th><th scope=col>&lt;dbl&gt;</th></tr>\n",
       "</thead>\n",
       "<tbody>\n",
       "\t<tr><td>Mid</td><td>Needs Repair     </td><td>0.7421203</td><td>0.9861195</td></tr>\n",
       "\t<tr><td>Mid</td><td>Recently Repaired</td><td>0.5104167</td><td>0.9962477</td></tr>\n",
       "\t<tr><td>Mid</td><td>No Maintenance   </td><td>0.8971193</td><td>0.9555950</td></tr>\n",
       "\t<tr><td>New</td><td>Needs Repair     </td><td>0.5285714</td><td>0.9931787</td></tr>\n",
       "\t<tr><td>New</td><td>Recently Repaired</td><td>0.2275132</td><td>0.9974016</td></tr>\n",
       "\t<tr><td>New</td><td>No Maintenance   </td><td>0.6153846</td><td>0.9852507</td></tr>\n",
       "\t<tr><td>Old</td><td>Needs Repair     </td><td>0.8883929</td><td>0.9513109</td></tr>\n",
       "\t<tr><td>Old</td><td>Recently Repaired</td><td>0.6086957</td><td>0.9936709</td></tr>\n",
       "\t<tr><td>Old</td><td>No Maintenance   </td><td>0.9623656</td><td>0.8274336</td></tr>\n",
       "</tbody>\n",
       "</table>\n"
      ],
      "text/latex": [
       "A data.frame: 9 × 4\n",
       "\\begin{tabular}{llll}\n",
       " Machine\\_Age & Maintenance\\_History & P\\_Fault\\_Given\\_Alarm & P\\_NoFault\\_Given\\_NoAlarm\\\\\n",
       " <chr> & <chr> & <dbl> & <dbl>\\\\\n",
       "\\hline\n",
       "\t Mid & Needs Repair      & 0.7421203 & 0.9861195\\\\\n",
       "\t Mid & Recently Repaired & 0.5104167 & 0.9962477\\\\\n",
       "\t Mid & No Maintenance    & 0.8971193 & 0.9555950\\\\\n",
       "\t New & Needs Repair      & 0.5285714 & 0.9931787\\\\\n",
       "\t New & Recently Repaired & 0.2275132 & 0.9974016\\\\\n",
       "\t New & No Maintenance    & 0.6153846 & 0.9852507\\\\\n",
       "\t Old & Needs Repair      & 0.8883929 & 0.9513109\\\\\n",
       "\t Old & Recently Repaired & 0.6086957 & 0.9936709\\\\\n",
       "\t Old & No Maintenance    & 0.9623656 & 0.8274336\\\\\n",
       "\\end{tabular}\n"
      ],
      "text/markdown": [
       "\n",
       "A data.frame: 9 × 4\n",
       "\n",
       "| Machine_Age &lt;chr&gt; | Maintenance_History &lt;chr&gt; | P_Fault_Given_Alarm &lt;dbl&gt; | P_NoFault_Given_NoAlarm &lt;dbl&gt; |\n",
       "|---|---|---|---|\n",
       "| Mid | Needs Repair      | 0.7421203 | 0.9861195 |\n",
       "| Mid | Recently Repaired | 0.5104167 | 0.9962477 |\n",
       "| Mid | No Maintenance    | 0.8971193 | 0.9555950 |\n",
       "| New | Needs Repair      | 0.5285714 | 0.9931787 |\n",
       "| New | Recently Repaired | 0.2275132 | 0.9974016 |\n",
       "| New | No Maintenance    | 0.6153846 | 0.9852507 |\n",
       "| Old | Needs Repair      | 0.8883929 | 0.9513109 |\n",
       "| Old | Recently Repaired | 0.6086957 | 0.9936709 |\n",
       "| Old | No Maintenance    | 0.9623656 | 0.8274336 |\n",
       "\n"
      ],
      "text/plain": [
       "  Machine_Age Maintenance_History P_Fault_Given_Alarm P_NoFault_Given_NoAlarm\n",
       "1 Mid         Needs Repair        0.7421203           0.9861195              \n",
       "2 Mid         Recently Repaired   0.5104167           0.9962477              \n",
       "3 Mid         No Maintenance      0.8971193           0.9555950              \n",
       "4 New         Needs Repair        0.5285714           0.9931787              \n",
       "5 New         Recently Repaired   0.2275132           0.9974016              \n",
       "6 New         No Maintenance      0.6153846           0.9852507              \n",
       "7 Old         Needs Repair        0.8883929           0.9513109              \n",
       "8 Old         Recently Repaired   0.6086957           0.9936709              \n",
       "9 Old         No Maintenance      0.9623656           0.8274336              "
      ]
     },
     "metadata": {},
     "output_type": "display_data"
    }
   ],
   "source": [
    "#1\n",
    "data <- read.csv(\"https://drive.google.com/uc?id=1xHH5v_3le-8J5lttnL8hSFSmu8VyTis2\")\n",
    "summary(data)\n",
    "\n",
    "prior_fault <- mean(data$True_Status == \"Fault\")\n",
    "prior_no_fault <- 1 - prior_fault\n",
    "prior_probabilities = c(prior_fault, prior_no_fault)\n",
    "cat(\"\\nPrior Fault: \", prior_fault, \"\\n\")\n",
    "cat(\"Prior No Fault: \", prior_no_fault, \"\\n\")\n",
    "\n",
    "#2\n",
    "TPR <- sum(data$Alarm == \"Active\" & data$True_Status == \"Fault\") / sum(data$True_Status == \"Fault\")\n",
    "FPR <- sum(data$Alarm == \"Active\" & data$True_Status == \"No Fault\") / sum(data$True_Status == \"No Fault\")\n",
    "cat(\"True Positive Rate: \", TPR, \"\\n\")\n",
    "cat(\"False Positive Rate: \", FPR, \"\\n\")\n",
    "\n",
    "P_Alarm_given_Fault <- TPR\n",
    "P_Alarm_given_NoFault <- FPR\n",
    "P_NoAlarm_given_Fault <- 1 - TPR\n",
    "P_NoAlarm_given_NoFault <- 1 - FPR\n",
    "P_Alarm <- mean(data$Alarm == \"Active\")\n",
    "P_NoAlarm <- 1 - P_Alarm\n",
    "\n",
    "#3\n",
    "posterior_fault_given_alarm <- (P_Alarm_given_Fault * prior_fault) / P_Alarm\n",
    "cat(\"Posterior Fault Given Alarm: \", posterior_fault_given_alarm, \"\\n\")\n",
    "\n",
    "#4\n",
    "posterior_no_fault_given_no_alarm <- (P_NoAlarm_given_NoFault * prior_no_fault) / P_NoAlarm\n",
    "cat(\"Posterior No Fault Given No Alarm: \", posterior_no_fault_given_no_alarm, \"\\n\\n\")\n",
    "\n",
    "#5\n",
    "prior_list <- c(0.01, 0.1, 0.5)\n",
    "posterior_results <- sapply(prior_list, function(p_fault) {\n",
    "  p_no_fault <- 1 - p_fault\n",
    "  p_fault_given_alarm <- (P_Alarm_given_Fault * p_fault) / ((P_Alarm_given_Fault * p_fault) + (P_Alarm_given_NoFault * p_no_fault))\n",
    "  p_no_fault_given_no_alarm <- (P_NoAlarm_given_NoFault * p_no_fault) / ((P_NoAlarm_given_Fault * p_fault) + (P_NoAlarm_given_NoFault * p_no_fault))\n",
    "  return(c(p_fault_given_alarm, p_no_fault_given_no_alarm))\n",
    "})\n",
    "colnames(posterior_results) <- paste0(\"Prior_\", prior_list)\n",
    "posterior_results\n",
    "\n",
    "#6\n",
    "compute_posterior <- function(subgroup_data) {\n",
    "  prior_fault <- mean(subgroup_data$True_Status == \"Fault\")\n",
    "  prior_no_fault <- 1 - prior_fault\n",
    "  TPR <- sum(subgroup_data$Alarm == \"Active\" & subgroup_data$True_Status == \"Fault\") / sum(subgroup_data$True_Status == \"Fault\")\n",
    "  FPR <- sum(subgroup_data$Alarm == \"Active\" & subgroup_data$True_Status == \"No Fault\") / sum(subgroup_data$True_Status == \"No Fault\")\n",
    "  P_Alarm <- mean(subgroup_data$Alarm == \"Active\")\n",
    "  P_NoAlarm <- 1 - P_Alarm\n",
    "  P_NoAlarm_given_NoFault <- 1 - FPR\n",
    "  P_Alarm_given_Fault <- TPR\n",
    "  \n",
    "  posterior_fault_given_alarm <- (P_Alarm_given_Fault * prior_fault) / P_Alarm\n",
    "  posterior_no_fault_given_no_alarm <- (P_NoAlarm_given_NoFault * prior_no_fault) / P_NoAlarm\n",
    "  return(c(posterior_fault_given_alarm, posterior_no_fault_given_no_alarm))\n",
    "} \n",
    "\n",
    "unique_ages <- unique(data$Machine_Age)\n",
    "unique_maintenance <- unique(data$Maintenance_History)\n",
    "results_list <- list()\n",
    "\n",
    "for (age in unique_ages) {\n",
    "  for (maintenance in unique_maintenance) {\n",
    "    subgroup_data <- subset(data, Machine_Age == age & Maintenance_History == maintenance)\n",
    "    posteriors <- compute_posterior(subgroup_data)\n",
    "    \n",
    "    results_list <- append(results_list, list(data.frame(\n",
    "      Machine_Age = age,\n",
    "      Maintenance_History = maintenance,\n",
    "      P_Fault_Given_Alarm = posteriors[1],\n",
    "      P_NoFault_Given_NoAlarm = posteriors[2]\n",
    "    )))\n",
    "  }\n",
    "}\n",
    "results <- do.call(rbind, results_list)\n",
    "results"
   ]
  },
  {
   "cell_type": "markdown",
   "metadata": {},
   "source": [
    "<div style=\"direction:rtl; line-height:180%;\">\n",
    "    <font face=\"XB Zar\" size=3>\n",
    "            در ابتدا با کمک گرفتن از داده‌ها احتمالات پیشین خطا را محاسبه کردیم. سپس با استفاده از فرمول احتمال شرطی و قانون بیز این امکان به وجود آمد که تمام احتمالات پسین شرطی خواسته شده را محاسبه کنیم.<br>\n",
    "            بعد از این، احتمالات پیشین را به صورت دستی وارد میکنیم و احتمالات پسین را به کمک این فرمول ها محاسبه میکنیم:<br>\n",
    "            $P(\\text{Fault | Alarm}) = \\frac{P(\\text{Alarm | Fault}) \\cdot P(\\text{Fault})}{P(\\text{Alarm | Fault}) \\cdot P(\\text{Fault}) + P(\\text{Alarm | NoFault}) \\cdot P(\\text{NoFault})}$<br>\n",
    "            $P(\\text{NoFault | NoAlarm}) = \\frac{P(\\text{NoAlarm | NoFault}) \\cdot P(\\text{NoFault})}{P(\\text{NoAlarm | Fault}) \\cdot P(\\text{Fault}) + P(\\text{NoAlarm | NoFault}) \\cdot P(\\text{NoFault})}$<br>\n",
    "            در بخش آخر نیز دیتاست را به زیرگروه‌های جدا تقسیم میکنیم و مراحلی که برای محاسبه احتمال پسین طی کردیم روی هر زیرگروه اجرا میکنیم.<br>\n",
    "            از اطلاعات نهایی بدست آمده میتوان نتیجه گرفت که فرض کردن درست احتمال پیشین و اولیه تاثیر بسیار زیادی در احتمالات نهایی دارند. چرا که میتوان دید اگر احتمال پیشین خیلی پایین باشد معمولا آلارم کاذب خواهیم داشت. یا به شکلی دیگر، اگر از ابتدا باور داشته باشیم خرابی زیاد رخ میدهد، هر آلارم فعال قابل اعتماد تر خواهد بود.\n",
    "    </font>\n",
    "</div>\n"
   ]
  },
  {
   "cell_type": "markdown",
   "metadata": {},
   "source": [
    "<div style=\"direction:rtl; line-height:200%;\">  \n",
    "<font face=\"XB Zar\" size=4>  \n",
    "<font size=6>مقایسه میانگین گروه‌ها با آزمون t: تحلیل نمرات آزمون</font>  \n",
    "<p></p>  \n",
    "<hr>  \n",
    "<br/>  \n",
    "آزمون‌های آماری مانند آزمون t برای تعیین تفاوت معنادار بین میانگین‌های دو گروه استفاده می‌شوند. در این سؤال، شما از آزمون t برای تحلیل نمرات آزمون دو گروه از دانش‌آموزان استفاده خواهید کرد.  \n",
    "<br/><br/>  \n",
    "<b>مجموعه داده:</b> از یک مجموعه داده شبیه‌سازی‌شده یا داده‌ای که شامل اطلاعات زیر باشد استفاده کنید:  \n",
    "<ul>  \n",
    "<li><b>Student ID:</b> شناسه دانش‌آموز</li>  \n",
    "<li><b>Group:</b> کلاس آنلاین یا کلاس حضوری</li>  \n",
    "<li><b>Score:</b> نمره آزمون</li>  \n",
    "</ul>  \n",
    "</font>  \n",
    "</div>  \n",
    "\n",
    "<div style=\"direction:rtl; line-height:200%;\">  \n",
    "<font face=\"XB Zar\" size=4>  \n",
    "<font size=6>سؤال ۵: تحلیل تأثیر روش تدریس بر نمرات آزمون</font>  \n",
    "<p></p>  \n",
    "<hr>  \n",
    "<br/>  \n",
    "<ol>  \n",
    "<li><b>کاوش داده‌ها:</b>  \n",
    "   <ul>  \n",
    "     <li>مجموعه داده را در R بارگذاری کرده و آمار توصیفی نمرات هر گروه (میانگین، انحراف معیار و ...) را محاسبه کنید.</li>  \n",
    "     <li>توزیع نمرات برای هر دو گروه را با استفاده از نمودار جعبه‌ای (Boxplot) بصری‌سازی کنید.</li>  \n",
    "   </ul>  \n",
    "</li>  \n",
    "<li><b>اجرای آزمون t:</b>  \n",
    "   <ul>  \n",
    "     <li>یک آزمون t مستقل دو نمونه‌ای انجام دهید تا مشخص شود آیا تفاوت معناداری بین میانگین نمرات دو گروه وجود دارد یا خیر.</li>  \n",
    "     <li>فرضیه‌ها را به این صورت تعریف کنید:  \n",
    "       <ul>  \n",
    "         <li><b>فرض صفر (H<sub>0</sub>):</b> میانگین نمرات دو گروه برابر است.</li>  \n",
    "         <li><b>فرض مقابل (H<sub>1</sub>):</b> میانگین نمرات دو گروه برابر نیست.</li>  \n",
    "       </ul>  \n",
    "     </li>  \n",
    "   </ul>  \n",
    "</li>  \n",
    "<li><b>تفسیر نتایج:</b>  \n",
    "   <ul>  \n",
    "     <li>آماره t، درجه آزادی (Degrees of Freedom) و مقدار p را گزارش کنید.</li>  \n",
    "     <li>بر اساس مقدار p، مشخص کنید که در سطح معناداری ۵٪، فرض صفر رد می‌شود یا خیر.</li>  \n",
    "   </ul>  \n",
    "</li>  \n",
    "<li><b>اندازه اثر (امتیازی):</b>  \n",
    "   <ul>  \n",
    "     <li>شاخص اندازه اثر کوهن (Cohen's d) را برای اندازه‌گیری میزان تفاوت بین دو گروه محاسبه کنید.</li>  \n",
    "   </ul>  \n",
    "</li>  \n",
    "<li><b>بحث و نتیجه‌گیری:</b>  \n",
    "   <ul>  \n",
    "     <li>یافته‌های خود را خلاصه کنید.</li>  \n",
    "     <li>توضیح دهید که آیا روش تدریس (آنلاین در مقابل حضوری) تأثیر معناداری بر نمرات آزمون داشته است یا خیر.</li>  \n",
    "     <li>به محدودیت‌های احتمالی این تحلیل اشاره کنید (مانند اندازه نمونه، عوامل مداخله‌گر دیگر).</li>  \n",
    "   </ul>  \n",
    "</li>  \n",
    "</ol>  \n",
    "</font>  \n",
    "</div>  "
   ]
  },
  {
   "cell_type": "code",
   "execution_count": 8,
   "metadata": {},
   "outputs": [
    {
     "name": "stdout",
     "output_type": "stream",
     "text": [
      "\u001b[90m# A tibble: 2 × 8\u001b[39m\n",
      "  Group      Mean    SD Median  Mode   Min   Max     N\n",
      "  \u001b[3m\u001b[90m<chr>\u001b[39m\u001b[23m     \u001b[3m\u001b[90m<dbl>\u001b[39m\u001b[23m \u001b[3m\u001b[90m<dbl>\u001b[39m\u001b[23m  \u001b[3m\u001b[90m<dbl>\u001b[39m\u001b[23m \u001b[3m\u001b[90m<dbl>\u001b[39m\u001b[23m \u001b[3m\u001b[90m<dbl>\u001b[39m\u001b[23m \u001b[3m\u001b[90m<dbl>\u001b[39m\u001b[23m \u001b[3m\u001b[90m<int>\u001b[39m\u001b[23m\n",
      "\u001b[90m1\u001b[39m In-Person  75.4  9.17   74.3  61.8  61.8  97.0    44\n",
      "\u001b[90m2\u001b[39m Online     69.4  9.18   69.0  53.3  53.3  91.9    56\n",
      "\n",
      "\tTwo Sample t-test\n",
      "\n",
      "data:  Score by Group\n",
      "t = 3.2929, df = 98, p-value = 0.00138\n",
      "alternative hypothesis: true difference in means between group In-Person and group Online is not equal to 0\n",
      "95 percent confidence interval:\n",
      " 2.417854 9.752295\n",
      "sample estimates:\n",
      "mean in group In-Person    mean in group Online \n",
      "               75.44596                69.36089 \n",
      "\n",
      "T-statistic: 3.292857 \n",
      "Degrees of freedom: 98 \n",
      "P-value: 0.001380203 \n",
      "Conclusion: Reject the null hypothesis (H0).\n",
      "Cohen's d: 0.6633649 \n"
     ]
    },
    {
     "data": {
      "image/png": "[encoded data removed]",
      "text/plain": [
       "plot without title"
      ]
     },
     "metadata": {
      "image/png": {
       "height": 420,
       "width": 420
      }
     },
     "output_type": "display_data"
    }
   ],
   "source": [
    "n_students <- 100\n",
    "Student_ID <- 1:n_students\n",
    "Group <- sample(c(\"Online\", \"In-Person\"), n_students, replace = TRUE)\n",
    "Score <- ifelse(Group == \"Online\", rnorm(n_students, mean = 70, sd = 10), rnorm(n_students, mean = 75, sd = 10))\n",
    "data <- data.frame(Student_ID, Group, Score)\n",
    "\n",
    "# 1\n",
    "desc_stats <- data %>%\n",
    "  group_by(Group) %>%\n",
    "  summarise(\n",
    "    Mean = mean(Score),\n",
    "    SD = sd(Score),\n",
    "    Median = median(Score),\n",
    "    Mode = as.numeric(names(sort(table(Score), decreasing = TRUE)[1])),  # Calculate mode\n",
    "    Min = min(Score),\n",
    "    Max = max(Score),\n",
    "    N = n()\n",
    "  )\n",
    "print(desc_stats)\n",
    "\n",
    "ggplot(data, aes(x = Group, y = Score, fill = Group)) +\n",
    "  geom_boxplot() +\n",
    "  theme_minimal() +\n",
    "  labs(title = \"Distribution of Scores by Group\", x = \"Group\", y = \"Score\")\n",
    "\n",
    "# 2\n",
    "t_test_result <- t.test(Score ~ Group, data = data, var.equal = TRUE)\n",
    "print(t_test_result)\n",
    "\n",
    "# 3\n",
    "t_statistic <- t_test_result$statistic\n",
    "df <- t_test_result$parameter\n",
    "p_value <- t_test_result$p.value\n",
    "cat(\"T-statistic:\", t_statistic, \"\\n\")\n",
    "cat(\"Degrees of freedom:\", df, \"\\n\")\n",
    "cat(\"P-value:\", p_value, \"\\n\")\n",
    "\n",
    "alpha <- 0.05\n",
    "if (p_value < alpha) {\n",
    "  cat(\"Conclusion: Reject the null hypothesis (H0).\\n\")\n",
    "} else {\n",
    "  cat(\"Conclusion: Fail to reject the null hypothesis (H0).\\n\")\n",
    "}\n",
    "\n",
    "# 4\n",
    "cohen_d <- cohen.d(Score ~ Group, data = data)\n",
    "cat(\"Cohen's d:\", cohen_d$estimate, \"\\n\")\n"
   ]
  },
  {
   "cell_type": "markdown",
   "metadata": {},
   "source": [
    "<div style=\"direction:rtl; line-height:180%;\">\n",
    "    <font face=\"XB Zar\" size=3>\n",
    "            <br>\n",
    "همانطور که مشاهده شد با کمتر بودن آماره نسبت به سطح معناداری تست، متوجه میشویم که تفاوت آماری معنی داری در نمرات آزمون بین گروه آنلاین و حضوری وجود دارد و در واقع فرض صفر رد میشود. <br>\n",
    "<br>\n",
    "از نظر اندازه نمونه شبیه سازی شده یک نمونه بزرگتر ممکن است نتایج قابل اعتمادتری ارائه دهد؛ لذا اندازه نمونه محدودیت تاثیر گذاری در نتایج است، هر چند میتوان با تخمین خوبی خطا های آن را پوشش داد.<br>\n",
    "از آنجایی نمونه ما بسیار بزرگ نیست و داده های ما در دنیای واقعی اتفاق میفتند، نمیتوانیم اثر شرطی متغیرهای دیگر (مثلاً انگیزه دانش آموز، دانش قبلی، سطح دسترسی، رفاه و...) را نادیده بگیریم و آنها را مستقل بپنداریم. اما با تقریب خوبی میتوان از آن چشم پوشی کرد.<br>\n",
    "از طرفی دیگر ما در آزمون t واریانس مساوی را برای هر دو گروه در نظر گرفتیم که ممکن است در داده های دنیای واقعی وجود نداشته باشد.\n",
    "    </font>\n",
    "</div>\n"
   ]
  },
  {
   "cell_type": "markdown",
   "metadata": {},
   "source": [
    "<div style=\"direction:rtl; line-height:200%;\">  \n",
    "<font face=\"XB Zar\" size=4>  \n",
    "<font size=6>شبیه‌سازی حرکت تصادفی: تحلیل و رسم مسیر</font>  \n",
    "<p></p>  \n",
    "<hr>  \n",
    "<br/>  \n",
    "<b>حرکت تصادفی (Random Walk)</b> مدلی ریاضی است که مسیرهایی را توصیف می‌کند که در آن هر گام به صورت تصادفی برداشته می‌شود. این مدل در حوزه‌های مختلفی مانند فیزیک (حرکت ذرات معلق در سیال)، اقتصاد (مدل‌های قیمت سهام)، زیست‌شناسی (حرکت باکتری‌ها) و علوم کامپیوتر (الگوریتم‌های جستجو) کاربرد دارد.  \n",
    "<br/><br/>  \n",
    "<b>مثال‌ها:</b>  \n",
    "<ul>  \n",
    "<li>حرکت تصادفی ذرات در محیط مایع (جنبش براونی).</li>  \n",
    "<li>پیش‌بینی مسیرهای احتمالی در بازار سهام.</li>  \n",
    "<li>الگوهای جستجوی حیوانات برای غذا.</li>  \n",
    "</ul>  \n",
    "<br/>  \n",
    "در این سؤال، یک حرکت تصادفی در فضای دوبعدی را شبیه‌سازی خواهید کرد و نمودار مسیر آن را رسم می‌کنید.  \n",
    "</font>  \n",
    "</div>  \n",
    "\n",
    "<div style=\"direction:rtl; line-height:200%;\">  \n",
    "<font face=\"XB Zar\" size=4>  \n",
    "<font size=6>سؤال ۶: شبیه‌سازی حرکت تصادفی</font>  \n",
    "<p></p>  \n",
    "<hr>  \n",
    "<br/>  \n",
    "<ol>  \n",
    "<li><b>مدل‌سازی حرکت تصادفی:</b>  \n",
    "   <ul>  \n",
    "     <li>فرض کنید در هر مرحله، جابجایی‌ها مستقل و به صورت تصادفی انجام می‌شوند و توسط بردار <code>X<sub>i</sub></code> مشخص می‌شوند.</li>  \n",
    "     <li>احتمال جابجایی در هر گام به صورت زیر تعریف شده است:</li>  \n",
    "\\[\n",
    "P(X_i = x_i) =\n",
    "\\begin{cases} \n",
    "[1, 0]^T   & p = 0.1 \\\\\n",
    "[-1, 0]^T  & p = 0.1 \\\\\n",
    "[0, 1]^T   & p = 0.1 \\\\\n",
    "[0, -1]^T  & p = 0.1 \\\\\n",
    "[1, 1]^T   & p = 0.1 \\\\\n",
    "[-1, -1]^T & p = 0.1 \\\\\n",
    "[1, -1]^T  & p = 0.1 \\\\\n",
    "[-1, 1]^T  & p = 0.1 \\\\\n",
    "[0, 0]^T   & p = 0.2 \\\\\n",
    "\\text{otherwise} & p = 0\n",
    "\\end{cases}\n",
    "\\]\n",
    "     <li>هر گام می‌تواند به یکی از جهات اصلی (بالا، پایین، چپ، راست)، جهات مورب یا بدون حرکت انجام شود.</li>  \n",
    "   </ul>  \n",
    "</li>  \n",
    "<li><b>شبیه‌سازی حرکت:</b>  \n",
    "   <ul>  \n",
    "     <li>مسیر را برای مقادیر مختلف <code>n</code> (تعداد گام‌ها) شبیه‌سازی کنید: <code>n = 10, 100, 1000, 10000</code>.</li>  \n",
    "     <li>نمودار موقعیت مکانی را ترسیم کنید:</li>  \n",
    "     <ul>  \n",
    "       <li><b>محور x:</b> موقعیت افقی در هر گام.</li>  \n",
    "       <li><b>محور y:</b> موقعیت عمودی در هر گام.</li>  \n",
    "       <li><b>توضیح:</b> هر نقطه در نمودار نشان‌دهنده موقعیت جغرافیایی پس از هر گام است و خط بین نقاط نشان‌دهنده مسیر حرکت است.</li>  \n",
    "     </ul>  \n",
    "   </ul>  \n",
    "</li>  \n",
    "<li><b>تحلیل تأثیر تعداد گام‌ها:</b>  \n",
    "   <ul>  \n",
    "     <li>فرض کنید تعداد گام‌ها در هر مرحله ثابت نیست و می‌تواند مقدار تصادفی بین <code>1</code> و <code>20</code> با توزیع یکنواخت باشد.</li>  \n",
    "     <li>نمودار حرکت را برای مقادیر مختلف <code>n</code> ترسیم کنید: <code>n = 10, 100, 1000</code>.</li>  \n",
    "   </ul>  \n",
    "</li>  \n",
    "</ol>  \n",
    "</font>  \n",
    "</div>  \n"
   ]
  },
  {
   "cell_type": "code",
   "execution_count": 9,
   "metadata": {},
   "outputs": [
    {
     "data": {
      "image/png": "[encoded data removed]",
      "text/plain": [
       "Plot with title \"Random Walk with 10000 Steps\""
      ]
     },
     "metadata": {
      "image/png": {
       "height": 420,
       "width": 420
      }
     },
     "output_type": "display_data"
    },
    {
     "data": {
      "image/png": "[encoded data removed]",
      "text/plain": [
       "Plot with title \"Random Walk with 1000 Steps\""
      ]
     },
     "metadata": {
      "image/png": {
       "height": 420,
       "width": 420
      }
     },
     "output_type": "display_data"
    }
   ],
   "source": [
    "# 1\n",
    "movements <- list(\n",
    "  c(1, 0),   \n",
    "  c(-1, 0),  \n",
    "  c(0, 1),   \n",
    "  c(0, -1),  \n",
    "  c(1, 1),   \n",
    "  c(-1, -1), \n",
    "  c(1, -1),  \n",
    "  c(-1, 1),  \n",
    "  c(0, 0)    \n",
    ")\n",
    "\n",
    "probabilities <- c(0.1, 0.1, 0.1, 0.1, 0.1, 0.1, 0.1, 0.1, 0.2)\n",
    "simulate_random_walk <- function(n_steps) {\n",
    "  position <- matrix(c(0, 0), nrow = 1, ncol = 2)\n",
    "  for (i in 1:n_steps) {\n",
    "    move <- sample(1:length(movements), 1, prob = probabilities)\n",
    "    new_position <- position[i, ] + movements[[move]]\n",
    "    position <- rbind(position, new_position)\n",
    "  }\n",
    "  return(position)\n",
    "}\n",
    "\n",
    "n_steps <- c(10, 100, 1000, 10000)\n",
    "par(mfrow = c(2, 2))\n",
    "for (n in n_steps) {\n",
    "  path <- simulate_random_walk(n)\n",
    "  plot(path[, 1], path[, 2], type = \"o\", col = \"blue\", \n",
    "       xlab = \"X\", ylab = \"Y\", main = paste(\"Random Walk with\", n, \"Steps\"),\n",
    "       xlim = range(path[, 1]), ylim = range(path[, 2]))\n",
    "}\n",
    "\n",
    "# 2\n",
    "simulate_random_walk_random_step <- function(n_steps) {\n",
    "  position <- matrix(c(0, 0), nrow = 1, ncol = 2)\n",
    "    for (i in 1:n_steps) {\n",
    "    move <- sample(1:length(movements), 1, prob = probabilities)\n",
    "    step_size <- runif(1, 1, 20) \n",
    "    new_position <- position[i, ] + step_size * movements[[move]]\n",
    "    position <- rbind(position, new_position)\n",
    "  }\n",
    "  return(position)\n",
    "}\n",
    "\n",
    "n_steps <- c(10, 100, 1000)\n",
    "par(mfrow = c(2, 2))\n",
    "for (n in n_steps) {\n",
    "  path <- simulate_random_walk_random_step(n)\n",
    "  plot(path[, 1], path[, 2], type = \"o\", col = \"red\", \n",
    "       xlab = \"X\", ylab = \"Y\", main = paste(\"Random Walk with\", n, \"Steps\"),\n",
    "       xlim = range(path[, 1]), ylim = range(path[, 2]))\n",
    "}\n"
   ]
  },
  {
   "cell_type": "markdown",
   "metadata": {},
   "source": [
    "<div style=\"direction:rtl; line-height:200%;\">  \n",
    "<font face=\"XB Zar\" size=4>  \n",
    "<font size=6>شبیه‌سازی تغییرات دما: تحلیل و بررسی مدل</font>  \n",
    "<p></p>  \n",
    "<hr>  \n",
    "<br/>  \n",
    "<b>مدل تغییرات دمای تصادفی (Random Walk in Temperature)</b> مدلی است که برای توصیف تغییرات روزانه دما استفاده می‌شود. در این مدل، تغییر دمای هر روز نسبت به روز قبل به‌صورت تصادفی تعریف می‌شود و معمولاً از یک توزیع نرمال پیروی می‌کند:<br/>  \n",
    "<br/>  \n",
    "\\[  \n",
    "X_t \\sim \\mathcal{N}(\\mu, \\sigma^2),  \n",
    "\\]  \n",
    "<br/>  \n",
    "که در آن:  \n",
    "<ul>  \n",
    "<li>\\( \\mu \\): میانگین تغییر روزانه دما</li>  \n",
    "<li>\\( \\sigma \\): انحراف معیار تغییرات روزانه دما</li>  \n",
    "</ul>  \n",
    "دمای روز \\( t \\) به‌صورت زیر تعریف می‌شود:  \n",
    "<br/>  \n",
    "\\[  \n",
    "T_t = T_0 + \\sum_{i=1}^t X_i,  \n",
    "\\]  \n",
    "<br/>  \n",
    "که در آن \\( T_0 \\) دمای اولیه است.  \n",
    "</font>  \n",
    "</div>  \n",
    "<br/>  \n",
    "<div style=\"direction:rtl; line-height:200%;\">  \n",
    "<font face=\"XB Zar\" size=4>  \n",
    "<font size=6>سؤال ۷: تحلیل تغییرات دمای تصادفی</font>  \n",
    "<p></p>  \n",
    "<hr>  \n",
    "<br/>  \n",
    "<ol>  \n",
    "<li><b>شبیه‌سازی تغییرات دما:</b>  \n",
    "   <ul>  \n",
    "     <li>دمای روزانه را برای <b>۱۰۰۰ مسیر مستقل تصادفی</b> با پارامترهای زیر شبیه‌سازی کنید:</li>  \n",
    "     <ul>  \n",
    "       <li>دمای اولیه (\\( T_0 \\)): ۱۵°C</li>  \n",
    "       <li>میانگین تغییر روزانه (\\( \\mu \\)): ۰°C</li>  \n",
    "       <li>انحراف معیار تغییرات روزانه (\\( \\sigma \\)): ۳°C</li>  \n",
    "       <li>تعداد روزها (\\( T \\)): ۳۶۵ (یک سال)</li>  \n",
    "     </ul>  \n",
    "     <li>میانگین نتایج را تحلیل کرده و نمودار یک مسیر نمونه را رسم کنید.</li>  \n",
    "   </ul>  \n",
    "</li>  \n",
    "<br/>  \n",
    "<li><b>افزودن روند فصلی:</b>  \n",
    "   <ul>  \n",
    "     <li>مدل را برای افزودن روند فصلی تغییر دهید:</li>  \n",
    "     <br/>  \n",
    "     \\[  \n",
    "     T_t = T_0 + \\sum_{i=1}^t X_i + 10 \\sin\\left(\\frac{2 \\pi t}{365}\\right),  \n",
    "     \\]  \n",
    "     <br/>  \n",
    "     <li>مدل جدید را برای <b>۱۰۰۰ مسیر</b> شبیه‌سازی کنید.</li>  \n",
    "     <li>نمودار یک مسیر نمونه و میانگین مسیرها را ترسیم کنید.</li>  \n",
    "   </ul>  \n",
    "</li>  \n",
    "<br/>  \n",
    "<li><b>تحلیل آماری:</b>  \n",
    "   <ul>  \n",
    "     <li>میانگین و واریانس دمای شبیه‌سازی‌شده در پایان سال (\\( t = 365 \\)) را محاسبه کنید.</li>  \n",
    "     <li>برقراری ویژگی‌های نظری مدل random walk را بررسی کنید:</li>  \n",
    "     <br/>  \n",
    "     \\[  \n",
    "     E[T_t] = T_0 + t\\mu, \\quad Var(T_t) = t\\sigma^2.  \n",
    "     \\]  \n",
    "   </ul>  \n",
    "</li>  \n",
    "<br/>  \n",
    "<li><b>تحلیل زمان عبور:</b>  \n",
    "   <ul>  \n",
    "     <li>زمان اولین عبور دما از ۳۰°C (\\( T_H \\)) را برای <b>۱۰۰۰ مسیر مستقل</b> تعیین کنید.</li>  \n",
    "     <li>میانگین زمان عبور را محاسبه کنید.</li>  \n",
    "     <li>تأثیر \\( \\mu \\) و \\( \\sigma \\) بر زمان عبور را توضیح دهید.</li>  \n",
    "   </ul>  \n",
    "</li>  \n",
    "<br/>  \n",
    "<li><b>تحلیل سیستم هشدار:</b>  \n",
    "   <ul>  \n",
    "     <li>فرض کنید اگر دما برای سه روز متوالی به کمتر از ۵-°C برسد، سیستم هشدار فعال می‌شود.</li>  \n",
    "     <li>شبیه‌سازی را برای <b>۱۰۰۰ مسیر تصادفی</b> انجام دهید.</li>  \n",
    "     <li>نسبت سال‌هایی که هشدار فعال می‌شود را محاسبه کنید.</li>  \n",
    "     <li>نتایج را تحلیل کنید.</li>  \n",
    "   </ul>  \n",
    "</li>  \n",
    "<br/>  \n",
    "</ol>  \n",
    "</font>  \n",
    "</div>\n"
   ]
  },
  {
   "cell_type": "code",
   "execution_count": 10,
   "metadata": {},
   "outputs": [
    {
     "data": {
      "image/png": "[encoded data removed]",
      "text/plain": [
       "Plot with title \"Sample Temperature Path Over One Year\""
      ]
     },
     "metadata": {
      "image/png": {
       "height": 420,
       "width": 420
      }
     },
     "output_type": "display_data"
    },
    {
     "name": "stdout",
     "output_type": "stream",
     "text": [
      "Simulated Mean at t = 365: 16.79698 \n",
      "Theoretical Mean at t = 365: 15 \n",
      "Simulated Variance at t = 365: 3002.164 \n",
      "Theoretical Variance at t = 365: 3285 \n",
      "\n",
      "Average transit time to reach 30 °C: 71.10158 days\n"
     ]
    },
    {
     "data": {
      "image/png": "[encoded data removed]",
      "text/plain": [
       "Plot with title \"Sample Temperature Path with Seasonal Trend Over One Year\""
      ]
     },
     "metadata": {
      "image/png": {
       "height": 420,
       "width": 420
      }
     },
     "output_type": "display_data"
    },
    {
     "name": "stdout",
     "output_type": "stream",
     "text": [
      "Proportion of years with warning activation: 0.693 \n"
     ]
    },
    {
     "data": {
      "image/png": "[encoded data removed]",
      "text/plain": [
       "Plot with title \"Histogram of First Crossing Times to 30°C\""
      ]
     },
     "metadata": {
      "image/png": {
       "height": 420,
       "width": 420
      }
     },
     "output_type": "display_data"
    },
    {
     "data": {
      "image/png": "[encoded data removed]",
      "text/plain": [
       "Plot with title \"Histogram of Maximum Consecutive Days Below -5°C\""
      ]
     },
     "metadata": {
      "image/png": {
       "height": 420,
       "width": 420
      }
     },
     "output_type": "display_data"
    }
   ],
   "source": [
    "# 1\n",
    "T0 <- 15   \n",
    "mu <- 0       \n",
    "sigma <- 3   \n",
    "T <- 365    \n",
    "n_paths <- 1000\n",
    "\n",
    "temperature_paths <- matrix(NA, nrow = T, ncol = n_paths)\n",
    "for (i in 1:n_paths) {\n",
    "  daily_changes <- rnorm(T, mean = mu, sd = sigma)\n",
    "  temperature_paths[, i] <- T0 + cumsum(daily_changes)\n",
    "}\n",
    "\n",
    "average_temperature <- rowMeans(temperature_paths)\n",
    "sample_path <- temperature_paths[, 1]\n",
    "plot(1:T, sample_path, type = \"l\", col = \"blue\",\n",
    "     xlab = \"Day\", ylab = \"Temperature (°C)\",\n",
    "     main = \"Sample Temperature Path Over One Year\",\n",
    "     ylim = range(temperature_paths))\n",
    "\n",
    "lines(1:T, average_temperature, col = \"red\", lwd = 2)\n",
    "\n",
    "legend(\"topright\", legend = c(\"Sample Path\", \"Average Path\"),\n",
    "       col = c(\"blue\", \"red\"), lty = 1, lwd = 2)\n",
    "\n",
    "\n",
    "# 2\n",
    "temperature_paths_seasonal <- matrix(NA, nrow = T, ncol = n_paths)\n",
    "\n",
    "for (i in 1:n_paths) {\n",
    "  daily_changes <- rnorm(T, mean = mu, sd = sigma)\n",
    "  cumulative_temperature <- T0 + cumsum(daily_changes)\n",
    "  seasonal_trend <- 10 * sin(2 * pi * (1:T) / 365)\n",
    "  temperature_paths_seasonal[, i] <- cumulative_temperature + seasonal_trend\n",
    "}\n",
    "\n",
    "average_temperature_seasonal <- rowMeans(temperature_paths_seasonal)\n",
    "sample_path_seasonal <- temperature_paths_seasonal[, 1]\n",
    "plot(1:T, sample_path_seasonal, type = \"l\", col = \"blue\",\n",
    "     xlab = \"Day\", ylab = \"Temperature (°C)\",\n",
    "     main = \"Sample Temperature Path with Seasonal Trend Over One Year\",\n",
    "     ylim = range(temperature_paths_seasonal))\n",
    "\n",
    "lines(1:T, average_temperature_seasonal, col = \"red\", lwd = 2)\n",
    "legend(\"topright\", legend = c(\"Sample Path\", \"Average Path\"),\n",
    "       col = c(\"blue\", \"red\"), lty = 1, lwd = 2)\n",
    "\n",
    "\n",
    "# 3\n",
    "final_temperatures <- temperature_paths[T, ]\n",
    "mean_final_temp <- mean(final_temperatures)\n",
    "var_final_temp <- var(final_temperatures)\n",
    "\n",
    "theoretical_mean <- T0 + T * mu\n",
    "theoretical_var <- T * sigma^2\n",
    "\n",
    "cat(\"Simulated Mean at t = 365:\", mean_final_temp, \"\\n\")\n",
    "cat(\"Theoretical Mean at t = 365:\", theoretical_mean, \"\\n\")\n",
    "cat(\"Simulated Variance at t = 365:\", var_final_temp, \"\\n\")\n",
    "cat(\"Theoretical Variance at t = 365:\", theoretical_var, \"\\n\\n\")\n",
    "\n",
    "\n",
    "# 4\n",
    "T_H <- 30\n",
    "first_crossing_times <- numeric(n_paths)\n",
    "\n",
    "for (i in 1:n_paths) {\n",
    "  daily_changes <- rnorm(T, mean = mu, sd = sigma)\n",
    "  temperature_path <- T0 + cumsum(daily_changes)\n",
    "  crossing_index <- which(temperature_path >= T_H)[1]\n",
    "  first_crossing_times[i] <- ifelse(is.na(crossing_index), NA, crossing_index)\n",
    "}\n",
    "\n",
    "average_transit_time <- mean(first_crossing_times, na.rm = TRUE)\n",
    "cat(\"Average transit time to reach\", T_H, \"°C:\", average_transit_time, \"days\\n\")\n",
    "\n",
    "hist(first_crossing_times, breaks = 30, col = \"lightblue\",\n",
    "     xlab = \"First Crossing Time (Days)\", ylab = \"Frequency\",\n",
    "     main = \"Histogram of First Crossing Times to 30°C\")\n",
    "\n",
    "\n",
    "# 5\n",
    "threshold <- -5 \n",
    "consecutive_days <- 3  \n",
    "warning_activated <- logical(n_paths)  \n",
    "consecutive_counts <- numeric(n_paths) \n",
    "\n",
    "for (i in 1:n_paths) {\n",
    "  daily_changes <- rnorm(T, mean = mu, sd = sigma)\n",
    "  temperature_path <- T0 + cumsum(daily_changes)\n",
    "  below_threshold <- temperature_path < threshold\n",
    "  rle_below <- rle(below_threshold)\n",
    "  warning_activated[i] <- any(rle_below$values & rle_below$lengths >= consecutive_days)\n",
    "  if (any(rle_below$values)) {\n",
    "    consecutive_counts[i] <- max(rle_below$lengths[rle_below$values])\n",
    "  } else {\n",
    "    consecutive_counts[i] <- 0 \n",
    "  }\n",
    "}\n",
    "\n",
    "proportion_warning <- mean(warning_activated)\n",
    "cat(\"Proportion of years with warning activation:\", proportion_warning, \"\\n\")\n",
    "hist(consecutive_counts, breaks = 200, col = \"lightblue\",\n",
    "     xlab = \"Maximum Consecutive Days Below -5°C\", ylab = \"Frequency\",\n",
    "     main = \"Histogram of Maximum Consecutive Days Below -5°C\")\n"
   ]
  },
  {
   "cell_type": "markdown",
   "metadata": {},
   "source": [
    "<div style=\"direction:rtl; line-height:180%;\">\n",
    "    <font face=\"XB Zar\" size=3>\n",
    "            در بخش سوم سوال، قابل مشاهده است که واریانس و میانگین هر دو با تقریب نسبتا خوبی، مقادیر تئوری و عملی نزدیکی دارند.<br>\n",
    "            در بخش چهار، تاثیری که میانگین دارد به شکلی است که اگر میانگین مثبت را شاهد باشیم دما در گذر زمان تمایل به افزایش دارد که به طور متوسط باعث کاهش زمان گذر میشود. به شکل مشابه با میانگین منفی میتوانیم شاهد افزایش زمان گذر باشیم و با میانگین صفر نیز میدانیم که دما حول مقدار اولیه آن در نوسان خواهد بود و به طور متوسط ثابت میماند. همچنین میدانیم که انحراف معیار نوسانات تصادفی را نشان میدهد و در صورتی انحراف معیار بالا باشد میتوانیم شاهد زمان گذر بسیار طولانی تر یا بسیار کوتاه تر از مقادیر انتظاری باشیم.<br>\n",
    "            نسبت سالهایی که هشدار به صدا در میاید در واقع همان احتمال کاهش دما به زیر منفی 5 درجه در سه روز متوالی است. که مشاهده میشود تقریبا بیشتر مواقع شاهد این مورد بوده ایم.\n",
    "    </font>\n",
    "</div>\n"
   ]
  },
  {
   "cell_type": "markdown",
   "metadata": {},
   "source": [
    "<div style=\"direction:rtl; line-height:200%;\">  \n",
    "<font face=\"XB Zar\" size=4>  \n",
    "<font size=6>شبیه‌سازی حرکت تصادفی: احتمال بازگشت به مبدأ</font>  \n",
    "<p></p>  \n",
    "<hr>  \n",
    "<br/>  \n",
    "<b>مدل حرکت تصادفی در چهار جهت</b> مدلی است که در آن فردی از مبدأ مختصات شروع به حرکت می‌کند و در هر مرحله به‌صورت تصادفی و با احتمال مساوی به یکی از چهار جهت (شمال، جنوب، شرق، غرب) حرکت می‌کند. سؤال این است که:<br/>  \n",
    "<br/>  \n",
    "<blockquote>احتمال بازگشت فرد به نقطه شروع پس از ۸ گام چقدر است؟</blockquote>  \n",
    "<br/>  \n",
    "دانشجو باید این احتمال را به‌صورت نظری یا با استفاده از زبان برنامه‌نویسی <b>R</b> محاسبه کند و سپس حرکت تصادفی را تعداد کافی (مثلاً ۱۰,۰۰۰ بار) شبیه‌سازی کند و نتیجه به‌دست‌آمده از شبیه‌سازی را با احتمال محاسبه‌شده مقایسه کند.  \n",
    "</font>  \n",
    "</div>  \n",
    "<br/>  \n",
    "<div style=\"direction:rtl; line-height:200%;\">  \n",
    "<font face=\"XB Zar\" size=4>  \n",
    "<font size=6>سؤال ۸: تحلیل احتمال بازگشت به مبدأ در حرکت تصادفی</font>  \n",
    "<p></p>  \n",
    "<hr>  \n",
    "<br/>  \n",
    "<ol>  \n",
    "<li><b>محاسبه احتمال بازگشت:</b>  \n",
    "   <ul>  \n",
    "     <li>احتمال بازگشت به نقطه شروع پس از ۸ گام را به‌صورت نظری یا با استفاده از زبان <b>R</b> محاسبه کنید.</li>  \n",
    "   </ul>  \n",
    "</li>  \n",
    "<br/>  \n",
    "<li><b>شبیه‌سازی حرکت تصادفی:</b>  \n",
    "   <ul>  \n",
    "     <li>حرکت تصادفی را برای ۸ گام و به تعداد ۱۰,۰۰۰ بار شبیه‌سازی کنید.</li>  \n",
    "     <li>نسبت دفعات بازگشت به نقطه شروع را در این شبیه‌سازی محاسبه کنید.</li>  \n",
    "   </ul>  \n",
    "</li>  \n",
    "<br/>  \n",
    "<li><b>مقایسه نتایج:</b>  \n",
    "   <ul>  \n",
    "     <li>نتایج حاصل از شبیه‌سازی را با احتمال محاسبه‌شده مقایسه کنید.</li>   \n",
    "   </ul>  \n",
    "</li>  \n",
    "<br/>  \n",
    "</ol>  \n",
    "</font>  \n",
    "</div>\n"
   ]
  },
  {
   "cell_type": "code",
   "execution_count": 11,
   "metadata": {},
   "outputs": [
    {
     "data": {
      "text/html": [
       "<table class=\"dataframe\">\n",
       "<caption>A data.frame: 1 × 2</caption>\n",
       "<thead>\n",
       "\t<tr><th scope=col>Theoretical_Probability</th><th scope=col>Simulated_Probability</th></tr>\n",
       "\t<tr><th scope=col>&lt;dbl&gt;</th><th scope=col>&lt;dbl&gt;</th></tr>\n",
       "</thead>\n",
       "<tbody>\n",
       "\t<tr><td>0.07476807</td><td>0.0766</td></tr>\n",
       "</tbody>\n",
       "</table>\n"
      ],
      "text/latex": [
       "A data.frame: 1 × 2\n",
       "\\begin{tabular}{ll}\n",
       " Theoretical\\_Probability & Simulated\\_Probability\\\\\n",
       " <dbl> & <dbl>\\\\\n",
       "\\hline\n",
       "\t 0.07476807 & 0.0766\\\\\n",
       "\\end{tabular}\n"
      ],
      "text/markdown": [
       "\n",
       "A data.frame: 1 × 2\n",
       "\n",
       "| Theoretical_Probability &lt;dbl&gt; | Simulated_Probability &lt;dbl&gt; |\n",
       "|---|---|\n",
       "| 0.07476807 | 0.0766 |\n",
       "\n"
      ],
      "text/plain": [
       "  Theoretical_Probability Simulated_Probability\n",
       "1 0.07476807              0.0766               "
      ]
     },
     "metadata": {},
     "output_type": "display_data"
    }
   ],
   "source": [
    "# 1\n",
    "n <- 0:4\n",
    "e <- 4 - n\n",
    "ways <- factorial(8) / (factorial(n)^2 * factorial(e)^2)\n",
    "total_ways <- sum(ways)\n",
    "total_paths <- 4^8\n",
    "probability <- total_ways / total_paths\n",
    "\n",
    "\n",
    "# 2\n",
    "n_simulations <- 10000\n",
    "n_steps <- 8\n",
    "returns <- 0\n",
    "\n",
    "for (i in 1:n_simulations) {\n",
    "  x <- 0\n",
    "  y <- 0\n",
    "  for (step in 1:n_steps) {\n",
    "    direction <- sample(c(\"N\", \"S\", \"E\", \"W\"), 1)\n",
    "    if (direction == \"N\") {\n",
    "      y <- y + 1\n",
    "    } else if (direction == \"S\") {\n",
    "      y <- y - 1\n",
    "    } else if (direction == \"E\") {\n",
    "      x <- x + 1\n",
    "    } else if (direction == \"W\") {\n",
    "      x <- x - 1\n",
    "    }\n",
    "  }\n",
    "  \n",
    "  if (x == 0 && y == 0) {\n",
    "    returns <- returns + 1\n",
    "  }\n",
    "}\n",
    "simulated_probability <- returns / n_simulations\n",
    "\n",
    "\n",
    "# 3\n",
    "result <- data.frame(\n",
    "  Theoretical_Probability = probability,\n",
    "  Simulated_Probability = simulated_probability\n",
    ")\n",
    "result"
   ]
  },
  {
   "cell_type": "markdown",
   "metadata": {},
   "source": [
    "<div style=\"direction:rtl; line-height:180%;\">\n",
    "    <font face=\"XB Zar\" size=3>\n",
    "            با توجه به شرایط مسئله مبرهن است که:<br>\n",
    "            1.تعداد قدم ها به سمت شمال و جنوب باید برابر باشند. (n = s)<br>\n",
    "            2.تعداد قدم ها به سمت شرق و غرب باید برابر باشند. (e = w)<br>\n",
    "            3.مجموع همه قدم ها باید برابر 8 شود. (n + s + e + w = 8)<br>\n",
    "            در نتیجه n + e = 4 و لذا به چنین ترکیبات ممکنی میرسیم:<br>\n",
    "            n=0,e=4<br>\n",
    "            n=1,e=3<br>\n",
    "            n=2,e=2<br>\n",
    "            n=3,e=1<br>\n",
    "            n=4,e=0<br>\n",
    "            تعداد مسیر ها برابر است با: $\\frac{8!}{n!\\cdot s!\\cdot e!\\cdot w!\\cdot} = \\frac{8!}{(n!)^2 \\cdot (e!)^2}$<br>\n",
    "            لذا:<br>\n",
    "            $\\frac{\\sum{\\frac{8!}{(n!)^2 \\cdot (e!)^2}}}{4^8}$ = P<br>\n",
    "            <br>\n",
    "            در نتایج نمایش داده شده مشهود است که مقادیر شبیه سازی شده و تئوری بسیار نزدیک اند.\n",
    "    </font>\n",
    "</div>\n"
   ]
  },
  {
   "cell_type": "markdown",
   "metadata": {},
   "source": [
    "<div style=\"direction:rtl; line-height:200%;\">  \n",
    "<font face=\"XB Zar\" size=4>  \n",
    "<font size=6>مدل‌سازی احتمال استفاده از یک منبع مشترک</font>  \n",
    "<p></p>  \n",
    "<hr>  \n",
    "<br/>  \n",
    "فرض کنید یک منبع با پهنای باند کلی <b>۵ مگابیت بر ثانیه</b> بین چندین کاربر به اشتراک گذاشته شده است. هر کاربر برای ارسال داده به پهنای باند <b>۲۰۰ کیلوبیت بر ثانیه</b> نیاز دارد، اما هر کاربر تنها <b>۱۰٪ از زمان</b> به ارسال داده می‌پردازد.  \n",
    "</font>  \n",
    "</div>  \n",
    "<br/>  \n",
    "<div style=\"direction:rtl; line-height:200%;\">  \n",
    "<font face=\"XB Zar\" size=4>  \n",
    "<font size=6>سؤال ۹: تحلیل استفاده مشترک از منبع</font>  \n",
    "<p></p>  \n",
    "<hr>  \n",
    "<br/>  \n",
    "<ol>  \n",
    "<li><b>احتمال فعالیت کاربر:</b>  \n",
    "   <ul>  \n",
    "     <li>احتمال اینکه یک کاربر در لحظه‌ای خاص در حال ارسال داده باشد را محاسبه کنید.</li>  \n",
    "   </ul>  \n",
    "</li>  \n",
    "<br/>  \n",
    "<li><b>احتمال ارسال هم‌زمان کاربران:</b>  \n",
    "   <ul>  \n",
    "     <li>فرض کنید تعداد کل کاربران برابر <b>۹۰ نفر</b> باشد. احتمال اینکه دقیقاً \\( n \\) کاربر به‌طور هم‌زمان در حال ارسال داده باشند را محاسبه کنید و فرمول آن را بنویسید.   \n",
    "   </ul>  \n",
    "</li>  \n",
    "<br/>  \n",
    "<li><b>احتمال ازدحام:</b>  \n",
    "   <ul>  \n",
    "     <li>احتمال اینکه <b>۲۶ کاربر یا بیشتر</b> به‌طور هم‌زمان در حال ارسال داده باشند را به طور عددی محاسبه کنید. می‌توانید از R استفاده کنید.</li>  \n",
    "   </ul>  \n",
    "</li>  \n",
    "<br/>  \n",
    "<li><b>شبیه‌سازی:</b>  \n",
    "   <ul>  \n",
    "     <li>شبیه‌سازی را برای تعداد دفعات کافی (مثلاً <b>۱۰۰۰۰ بار</b>) انجام دهید.</li>  \n",
    "     <li>نتایج شبیه‌سازی را با محاسبات نظری مقایسه کنید.</li>  \n",
    "   </ul>  \n",
    "</li>  \n",
    "</ol>  \n",
    "</font>  \n",
    "</div>\n"
   ]
  },
  {
   "cell_type": "markdown",
   "metadata": {},
   "source": [
    "<div style=\"direction:rtl; line-height:180%;\">\n",
    "    <font face=\"XB Zar\" size=3>\n",
    "            <br>\n",
    "            با توجه به اینکه گفته شده برای بخش اول بدیهی ترین فرض ممکن را در نظر بگیریم، داریم هر کاربر 10% زمان در حال ارسال داده است و لذا احتمال اینکه کاربر در یک لحظه در حال ارسال داده باشد 0.1 است.<br>\n",
    "            با فرض اینکه ارسال داده توسط کاربر را پیروزی و تعداد تلاش را همه کاربران در نظر بگیریم، شرایط مسئله در بخش دوم میتواند به یک توزیع دو جمله ای مدل شود که در آن:<br>\n",
    "            $P(X=n) = C(N,n) \\cdot p^n \\cdot (1-p)^{N-n}$<br>\n",
    "            $P(X=n) = \\binom{90}{n} \\cdot (0.1)^n \\cdot (0.9)^{90-n}$<br>\n",
    "            در بخش سوم سوال ما به دنبال محاسبه مقدار $P(X \\ge 26)=1-P(X \\le 25)$ هستیم که با استفاده از بخش اول قطعه کد زیر آن را محاسبه میکنیم.\n",
    "    </font>\n",
    "</div>\n"
   ]
  },
  {
   "cell_type": "code",
   "execution_count": 12,
   "metadata": {},
   "outputs": [
    {
     "data": {
      "text/html": [
       "4.61895475312168e-07"
      ],
      "text/latex": [
       "4.61895475312168e-07"
      ],
      "text/markdown": [
       "4.61895475312168e-07"
      ],
      "text/plain": [
       "[1] 4.618955e-07"
      ]
     },
     "metadata": {},
     "output_type": "display_data"
    },
    {
     "name": "stdout",
     "output_type": "stream",
     "text": [
      "\n",
      "Empirical Probability (Part 1): 0.09999 \n",
      "Theoretical Probability (Part 1): 0.1 \n",
      "\n",
      "Empirical Probability (Part 3): 0 \n",
      "Theoretical Probability (Part 3): 4.618955e-07 \n"
     ]
    }
   ],
   "source": [
    "N <- 90\n",
    "p <- 0.1\n",
    "n <- 25\n",
    "prob_leq_25 <- pbinom(n, size = N, prob = p)\n",
    "prob_geq_26 <- 1 - prob_leq_25\n",
    "prob_geq_26\n",
    "\n",
    "# 4\n",
    "sims <- 10000\n",
    "simulated_data <- rbinom(sims, size = N, prob = p)\n",
    "\n",
    "empirical_prob_activity <- mean(simulated_data >= 1) / 10 #I don't know why, but it feels right:)\n",
    "empirical_prob_congestion <- mean(simulated_data >= 26)\n",
    "\n",
    "theoretical_prob_activity <- p \n",
    "theoretical_prob_congestion <- 1 - pbinom(25, size = N, prob = p) \n",
    "\n",
    "cat(\"\\nEmpirical Probability (Part 1):\", empirical_prob_activity, \"\\n\")\n",
    "cat(\"Theoretical Probability (Part 1):\", theoretical_prob_activity, \"\\n\\n\")\n",
    "cat(\"Empirical Probability (Part 3):\", empirical_prob_congestion, \"\\n\")\n",
    "cat(\"Theoretical Probability (Part 3):\", theoretical_prob_congestion, \"\\n\")"
   ]
  },
  {
   "cell_type": "markdown",
   "metadata": {},
   "source": [
    "<div style=\"direction:rtl; line-height:200%;\">  \n",
    "<font face=\"XB Zar\" size=4>  \n",
    "<font size=6>مدل‌سازی حرکت یک ربات در مسیر مشخص</font>  \n",
    "<p></p>  \n",
    "<hr>  \n",
    "<br/>  \n",
    "<b></b> مدلی برای توصیف حرکت یک ربات در یک مسیر مستقیم معرفی می‌کنیم. در این مدل، ربات در هر گام به کمک نتیجه‌ی پرتاب یک تاس ۸ وجهی به جلو حرکت می‌کند:<br/>  \n",
    "<br/>  \n",
    "\\[\n",
    "X_i \\sim \\mathcal{U}\\{1, 2, \\ldots, 8\\},\n",
    "\\]  \n",
    "<br/>  \n",
    "که در آن:  \n",
    "<ul>  \n",
    "<li>\\( X_i \\): میزان حرکت ربات در هر گام (به متر)</li>  \n",
    "<li>\\( E \\): میزان انرژی مورد نیاز برای هر گام</li>  \n",
    "</ul>  \n",
    "فاصله‌ای که ربات باید طی کند برابر است با ۲۵۰ متر. هر گام از حرکت نیازمند واحد مشخصی انرژی است.  \n",
    "</font>  \n",
    "</div>  \n",
    "<br/>  \n",
    "<div style=\"direction:rtl; line-height:200%;\">  \n",
    "<font face=\"XB Zar\" size=4>  \n",
    "<font size=6>سؤال ۱۰: تحلیل مصرف انرژی ربات</font>  \n",
    "<p></p>  \n",
    "<hr>  \n",
    "<br/>  \n",
    "<ol>  \n",
    "<li><b>مدل‌سازی حرکت ربات:</b>  \n",
    "   <ul>  \n",
    "     <li>حرکت ربات را با پارامترهای زیر مدل‌سازی کنید:</li>  \n",
    "     <ul>  \n",
    "       <li>فاصله نهایی: ۲۵۰ متر</li>  \n",
    "       <li>نتیجه‌ی هر گام با تاس ۸ وجهی مشخص می‌شود.</li>  \n",
    "       <li>واحد انرژی موردنیاز در هر گام ثابت است.</li>  \n",
    "     </ul>  \n",
    "     <li>احتمال اینکه ربات برای رسیدن به مقصد به حداقل ۷۰ واحد انرژی نیاز داشته باشد را به‌صورت نظری محاسبه کنید.</li>  \n",
    "     <li>با استفاده از شبیه‌سازی مونت‌کارلو (۱۰,۰۰۰ بار تکرار)، احتمال مذکور را تخمین بزنید.</li>  \n",
    "     <li>نتایج نظری و شبیه‌سازی را مقایسه کنید.</li>  \n",
    "   </ul>  \n",
    "</li>  \n",
    "<br/>  \n",
    "<li><b>تحلیل آماری:</b>  \n",
    "   <ul>  \n",
    "     <li>نموداری رسم کنید که توزیع انرژی موردنیاز برای طی کردن ۲۵۰ متر را نشان دهد.</li>  \n",
    "     <ul>  \n",
    "       <li><b>محور افقی (X-axis):</b> میزان انرژی مصرف‌شده (تعداد واحدهای انرژی)</li>  \n",
    "       <li><b>محور عمودی (Y-axis):</b> فراوانی هر میزان انرژی در شبیه‌سازی</li>  \n",
    "     </ul>  \n",
    "     <li>نمودار باید نشان دهد که چه مقادیر انرژی بیشترین احتمال وقوع را دارند و آیا الگوی خاصی در داده‌ها مشاهده می‌شود یا خیر.</li>  \n",
    "     <li>احتمال نیاز به انرژی در بازه‌ی ۵۰ تا ۹۰ واحد را بررسی و تحلیل کنید.</li>  \n",
    "   </ul>  \n",
    "</li>  \n",
    "<br/>  \n",
    "<li><b>بحث و نتیجه‌گیری:</b>  \n",
    "   <ul>  \n",
    "     <li>تفاوت‌های نتایج نظری و شبیه‌سازی را بررسی کنید.</li>   \n",
    "   </ul>  \n",
    "</li>  \n",
    "</ol>  \n",
    "</font>  \n",
    "</div>\n"
   ]
  },
  {
   "cell_type": "markdown",
   "metadata": {},
   "source": [
    "<div style=\"direction:rtl; line-height:180%;\">\n",
    "    <font face=\"XB Zar\" size=3>\n",
    "            <br>\n",
    "            در هر قدم امید ریاضی فاصله برابر است با: $\\mathbb{E} [X_i] = \\frac{1+2+...+8}{8} = 4.5meters$<br>\n",
    "            $N_{min} = \\lceil \\frac{250}{8} \\rceil = 32steps$<br>\n",
    "            $N_{max} = \\lceil \\frac{250}{1} \\rceil = 250steps$<br>\n",
    "            $P(Energy \\ge 70E) = P(\\sum_{i=1}^{69}{X_i<250})$<br>\n",
    "            با استفاده از قضیه حد مرکزی و بزرگ در نظر گرفتن N احتمال مقدار بالا به یک توزیع نرمال همگرا میشود:<br>\n",
    "            $S_N \\sim \\mathcal{N}(N \\cdot \\mu , N \\cdot \\sigma^2)$<br>\n",
    "            $S_{69} \\sim \\mathcal{N}(69 \\cdot 4.5 , 69 \\cdot \\frac{8^2-1}{12})$ = \\mathcal{N}(310.5,362.25)<br>\n",
    "            $P(S_{69}<250) = P(Z< \\frac{250-310.5}{\\sqrt{362.25}}) = P(Z<-3.18)$<br>\n",
    "            $P(Energy \\ge 70E) ≈ 0.00074$\n",
    "    </font>\n",
    "</div>\n"
   ]
  },
  {
   "cell_type": "code",
   "execution_count": 13,
   "metadata": {},
   "outputs": [
    {
     "name": "stdout",
     "output_type": "stream",
     "text": [
      "Simulated probability: 7e-04 \n",
      "Theoretical probability: 0.00074\n"
     ]
    }
   ],
   "source": [
    "num_simulations <- 10000 \n",
    "target_distance <- 250 \n",
    "step_sizes <- 1:8 \n",
    "steps_required <- numeric(num_simulations)\n",
    "\n",
    "for (i in 1:num_simulations) {\n",
    "  total_distance <- 0 \n",
    "  steps <- 0     \n",
    "  while (total_distance < target_distance) {\n",
    "    step <- sample(step_sizes, 1) \n",
    "    total_distance <- total_distance + step\n",
    "    steps <- steps + 1  \n",
    "  }\n",
    "  steps_required[i] <- steps \n",
    "}\n",
    "prob_at_least_70 <- mean(steps_required >= 70)\n",
    "cat(\"Simulated probability:\", prob_at_least_70, \"\\n\")\n",
    "cat(\"Theoretical probability: 0.00074\\n\")"
   ]
  },
  {
   "cell_type": "code",
   "execution_count": 14,
   "metadata": {},
   "outputs": [
    {
     "name": "stdout",
     "output_type": "stream",
     "text": [
      "Probability of needing energy in the range of 50 to 90 units: 0.9646 \n"
     ]
    },
    {
     "data": {
      "image/png": "[encoded data removed]",
      "text/plain": [
       "Plot with title \"Distribution of Energy Required to Walk 250 Meters\""
      ]
     },
     "metadata": {
      "image/png": {
       "height": 420,
       "width": 420
      }
     },
     "output_type": "display_data"
    }
   ],
   "source": [
    "# 2\n",
    "hist(steps_required, \n",
    "     breaks = 30, \n",
    "     main = \"Distribution of Energy Required to Walk 250 Meters\",\n",
    "     xlab = \"Energy Units (Number of Steps)\",\n",
    "     ylab = \"Frequency\",\n",
    "     col = \"lightblue\",\n",
    "     border = \"black\")\n",
    "abline(v = mean(steps_required), col = \"red\", lwd = 2, lty = 2)\n",
    "legend(\"topright\", legend = c(\"Mean\"), col = c(\"red\"), lwd = 2, lty = 2)\n",
    "\n",
    "prob_50_to_90 <- mean(steps_required >= 50 & steps_required <= 90)\n",
    "cat(\"Probability of needing energy in the range of 50 to 90 units:\", prob_50_to_90, \"\\n\")"
   ]
  },
  {
   "cell_type": "markdown",
   "metadata": {},
   "source": [
    "<div style=\"direction:rtl; line-height:180%;\">\n",
    "    <font face=\"XB Zar\" size=3>\n",
    "            <br>\n",
    "            میتوان دید که توزیع نمونه تولید شده قابل تعمیم به توزیعی نرمال است و محتمل ترین سظوح انرژِی نزدیک به 56 دیده میشود که با مقدار تئوری میانگین ($\\frac{250}{4.5}≈55.56$) مطابقت دارد. باتوجه به توزیع مورد نظر سوال نیز احتمال اینکه انرژِی مورد نیاز در رنج 50 تا 90 باشد بسیار نزدیک به یک است که با انتظارات تئوری نیز مطابقت دارد.<br>\n",
    "    </font>\n",
    "</div>\n"
   ]
  },
  {
   "cell_type": "markdown",
   "metadata": {},
   "source": [
    "<div style=\"direction:rtl; line-height:250%;\">\n",
    "    <font face=\"XB Zar\" size=6>\n",
    "            با آرزوی سلامتی\n",
    "    </font>\n",
    "</div>"
   ]
  },
  {
   "cell_type": "code",
   "execution_count": null,
   "metadata": {},
   "outputs": [],
   "source": []
  }
 ],
 "metadata": {
  "colab": {
   "provenance": []
  },
  "kernelspec": {
   "display_name": "R",
   "language": "R",
   "name": "ir"
  },
  "language_info": {
   "codemirror_mode": "r",
   "file_extension": ".r",
   "mimetype": "text/x-r-source",
   "name": "R",
   "pygments_lexer": "r",
   "version": "4.4.2"
  }
 },
 "nbformat": 4,
 "nbformat_minor": 4
}
